{
  "cells": [
    {
      "cell_type": "markdown",
      "metadata": {
        "id": "view-in-github",
        "colab_type": "text"
      },
      "source": [
        "<a href=\"https://colab.research.google.com/github/Manojgharge07/DataScience_Mentorship-Python_Projects/blob/main/Python_Project_1.ipynb\" target=\"_parent\"><img src=\"https://colab.research.google.com/assets/colab-badge.svg\" alt=\"Open In Colab\"/></a>"
      ]
    },
    {
      "cell_type": "markdown",
      "source": [
        "# **ATM System (Command line)**\n",
        "\n",
        "Enter your card valid card check all are numbers? ---> (Take inputs)\n",
        "\n",
        "1. **Display menu**(Withdrawal, saving, current, other)\n",
        "2. **Other**\n",
        "\n",
        "a. PIN change, Block card\n",
        "\n",
        "3. **Withdrawal**\n",
        "\n",
        "a. Enter the amount to withdrawal in terms of 200 RS\n",
        "\n",
        "b. Check balance info\n",
        "\n",
        "c. If balance low then display Error message (Low balance)\n",
        "\n",
        "d. exit()\n",
        "\n",
        "e. Thank you\n",
        "\n",
        "Else:\n",
        "\n",
        "Update the remaining balance\n",
        "\n",
        "Write the balance in file.csv (name, account number, balance account type) Display message of successful transaction exit()\n",
        "\n",
        "**4. PIN Exchange**\n",
        "\n",
        "a. Enter card\n",
        "\n",
        "b. Enter the OTP\n",
        "\n",
        "c. Validate the OTP and mobile number\n",
        "\n",
        "d. Update the pin (as of now write it in csv file)file.csv (name, account number, balance account type, PIN)\n",
        "\n",
        "e. Display message of successful pin change\n",
        "\n",
        "f. Exit()\n",
        "\n",
        "**5. Block Card**\n",
        "\n",
        "a. Enter card number\n",
        "\n",
        "b. Enter the OTP\n",
        "\n",
        "c. Validate the OTP and mobile number\n",
        "\n",
        "d. Update the access field in csv to BLOCK ile.csv (name, account number, balance account type, PIN, access)\n",
        "\n",
        "e. Display successful message\n",
        "\n",
        "f. exit"
      ],
      "metadata": {
        "id": "7t0O9Cz8o0wZ"
      }
    },
    {
      "cell_type": "markdown",
      "source": [
        "# **Function For Display menu & Others**"
      ],
      "metadata": {
        "id": "qH-m-zVyqFT1"
      }
    },
    {
      "cell_type": "code",
      "execution_count": null,
      "metadata": {
        "colab": {
          "base_uri": "https://localhost:8080/"
        },
        "id": "p27Bmt6_qhJ0",
        "outputId": "6dfcda1d-f64e-4889-8680-422f2155879f"
      },
      "outputs": [
        {
          "output_type": "stream",
          "name": "stdout",
          "text": [
            "Welcome to HDFC Bank\n",
            "\n",
            "Please insert your card\n",
            "\n",
            "Enter your four digit pin number\n",
            "1234\n",
            "**Display menu**\n",
            "1. Withdrawal\n",
            "2. Saving\n",
            "3. Current\n",
            "4. Other\n",
            "Enter option number\n",
            "\n",
            "4\n",
            "1. Pin change\n",
            "2. Block card\n"
          ]
        }
      ],
      "source": [
        "print(\"Welcome to HDFC Bank\\n\\nPlease insert your card\\n\")\n",
        "\n",
        "password = 1234\n",
        "choise = 0\n",
        "\n",
        "pin = int(input(\"Enter your four digit pin number\\n\"))\n",
        "\n",
        "if pin == password:\n",
        "  while choise != 4:\n",
        "    print(\"**Display menu**\")\n",
        "    print(\"1. Withdrawal\")\n",
        "    print(\"2. Saving\")\n",
        "    print(\"3. Current\")\n",
        "    print(\"4. Other\")\n",
        "\n",
        "    choise = int(input(\"Enter option number\\n\\n\"))\n",
        "\n",
        "    if choise == 4.:\n",
        "      print(\"1. Pin change\")\n",
        "      print(\"2. Block card\")\n",
        "\n",
        "\n",
        "else:\n",
        "  print(\"pin incorrect!! Please try again\")\n"
      ]
    },
    {
      "cell_type": "markdown",
      "source": [
        "# **Withdrawal**"
      ],
      "metadata": {
        "id": "un5GOEbSJDld"
      }
    },
    {
      "cell_type": "code",
      "execution_count": null,
      "metadata": {
        "id": "ugN3KIuWNziE"
      },
      "outputs": [],
      "source": [
        "def withdrawal():\n",
        "\n",
        "\n",
        "#if enter some amount \n",
        "\n",
        "  balance = 20000\n",
        "  print(\"\\n Your Account Balance is :\", balance)\n",
        "# how much mony withdrawal in terms of 200\n",
        "\n",
        "  x = eval(input(\"\\nEnter the amount to withdrawal in terms of 200 RS: \"))\n",
        "\n",
        "#check the entered amount is in multiple of 200\n",
        "#and aslo check the balance.   \n",
        "  if x%200 == 0:\n",
        "    if x<=balance:\n",
        "      y = balance-x\n",
        "      print(\"\\nYour Transaction is Succesful\",x,\"withdrawn Remeaning balance is:\",y,\"\\n\")\n",
        "      print(\"\\n Thank you. Visit Again \\n\")\n",
        "    else:\n",
        "      print(\"\\n Insufficient Balance \\n\")\n",
        "      exit\n",
        "      print(\"\\n Thank you \\n\")\n",
        "    \n",
        "  else:\n",
        "    print(\"\\n Enter amount in multiple of 200 \\n\")\n",
        "\n",
        "    return"
      ]
    },
    {
      "cell_type": "code",
      "source": [
        "withdrawal()"
      ],
      "metadata": {
        "id": "BEo2ukvH40Pv",
        "outputId": "607a6675-500c-4aff-94a3-515d0c8101cd",
        "colab": {
          "base_uri": "https://localhost:8080/"
        }
      },
      "execution_count": null,
      "outputs": [
        {
          "output_type": "stream",
          "name": "stdout",
          "text": [
            "\n",
            " Your Account Balance is : 20000\n",
            "\n",
            "Enter the amount to withdrawal in terms of 200 RS: 9600\n",
            "\n",
            "Your Transaction is Succesful 9600 withdrawn Remeaning balance is: 10400 \n",
            "\n",
            "\n",
            " Thank you. Visit Again \n",
            "\n"
          ]
        }
      ]
    },
    {
      "cell_type": "code",
      "source": [
        "def pin_exchange():\n",
        "  import random\n",
        "\n",
        "  card_number = int (input(\"Enter card number :\"))\n",
        "\n",
        "  OTP = random.randint(0000,9999)\n",
        "  print(OTP)\n",
        "\n",
        "  enter_OTP =eval(input(\"Enter OTP Send To Your Registered Mobile Number :\"))\n",
        "  if OTP == enter_OTP:\n",
        "\n",
        "      old_pin =int(input(\"Enter your old pin :\"))\n",
        "      new_pin =int(input(\"Enter your new pin :\"))\n",
        "      x= old_pin\n",
        "      y = new_pin\n",
        "\n",
        "      if x == y:\n",
        "        print(\"Enter pin is same as old pin\")\n",
        "        print(\"Try Different Pin\")\n",
        "        exit()\n",
        "      else:\n",
        "        print(\"Pin changed Successfully \")\n",
        "        print(\"Your new pin is :\",y)\n",
        "\n",
        "\n",
        "  else:\n",
        "    print(\"Entered OTP did not Match , Try Again \")\n",
        "    print(\"Thank you\")\n",
        "    exit()"
      ],
      "metadata": {
        "id": "8MqZZpGWyZXt"
      },
      "execution_count": 1,
      "outputs": []
    },
    {
      "cell_type": "code",
      "source": [
        "pin_exchange()"
      ],
      "metadata": {
        "id": "wxC2omxCzSxk",
        "outputId": "2decf076-1fad-44a5-e404-00a414f7959f",
        "colab": {
          "base_uri": "https://localhost:8080/"
        }
      },
      "execution_count": 2,
      "outputs": [
        {
          "output_type": "stream",
          "name": "stdout",
          "text": [
            "Enter card number :6775\n",
            "8344\n",
            "Enter OTP Send To Your Registered Mobile Number :8344\n",
            "Enter your old pin :1234\n",
            "Enter your new pin :4321\n",
            "Pin changed Successfully \n",
            "Your new pin is : 4321\n"
          ]
        }
      ]
    },
    {
      "cell_type": "code",
      "source": [
        "def block_card():\n",
        "  card_number = input (\"Enter Your Card Number : \")\n",
        "  import random\n",
        "  OTP = random.randint(1000,9999)\n",
        "  print(OTP)\n",
        "  My_OTP = int(input(\"Enter recived OTP your Registered mobile number :\"))\n",
        "\n",
        "  #match the otp\n",
        "\n",
        "  if OTP !=My_OTP:\n",
        "    print(\"Entered OTP did not match \")\n",
        "    print(\"Try Again\")\n",
        "    return\n",
        "    print(\"********************************************************************************\")\n",
        "  mobile_number = input(\"Enter Your Mobile Number :\")\n",
        "  print(\"\\n Your card number is :\",card_number,\"And your Mobile Numer is :\",mobile_number)\n",
        "  print(\"**********************************************************************************\")\n",
        "  #conformation from customer to block card\n",
        "  print(\" To Conform Entered Details enter \\'1\\' otherwise enter \\'0\\'\")\n",
        "  conform = int(input(\"\"))\n",
        "  if conform ==1:\n",
        "    print(\"Your card will be blocked in 24 Hours\")\n",
        "    print(\"you can request for new card from your Regiestered Mobile Number.\")\n",
        "    print(\"********************************************************************************\")\n",
        "  elif conform == 0:\n",
        "    print(\"Sorry your card will not be blocked.\")"
      ],
      "metadata": {
        "id": "P94Rn8_8zdxT"
      },
      "execution_count": 5,
      "outputs": []
    },
    {
      "cell_type": "code",
      "source": [
        "block_card()"
      ],
      "metadata": {
        "id": "VK0Jfe071rsS",
        "outputId": "7f1e413b-8580-4431-854e-b78ea6ea1cc4",
        "colab": {
          "base_uri": "https://localhost:8080/"
        }
      },
      "execution_count": 6,
      "outputs": [
        {
          "output_type": "stream",
          "name": "stdout",
          "text": [
            "Enter Your Card Number : 43245\n",
            "2415\n",
            "Enter recived OTP your Registered mobile number :2415\n",
            "Enter Your Mobile Number :9876543210\n",
            "\n",
            " Your card number is : 43245 And your Mobile Numer is : 9876543210\n",
            "**********************************************************************************\n",
            " To Conform Entered Details enter '1' otherwise enter '0'\n",
            "1\n",
            "Your card will be blocked in 24 Hours\n",
            "you can request for new card from your Regiestered Mobile Number.\n",
            "********************************************************************************\n"
          ]
        }
      ]
    }
  ],
  "metadata": {
    "colab": {
      "collapsed_sections": [],
      "name": "Python Project_1.ipynb",
      "provenance": [],
      "authorship_tag": "ABX9TyMe1WxLxds4O2lRhnTBMtfO",
      "include_colab_link": true
    },
    "kernelspec": {
      "display_name": "Python 3",
      "name": "python3"
    },
    "language_info": {
      "name": "python"
    }
  },
  "nbformat": 4,
  "nbformat_minor": 0
}